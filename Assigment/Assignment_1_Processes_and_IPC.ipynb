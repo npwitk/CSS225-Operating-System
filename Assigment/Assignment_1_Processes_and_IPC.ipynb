{
  "nbformat": 4,
  "nbformat_minor": 0,
  "metadata": {
    "colab": {
      "provenance": [],
      "toc_visible": true
    },
    "kernelspec": {
      "name": "python3",
      "display_name": "Python 3"
    },
    "language_info": {
      "name": "python"
    }
  },
  "cells": [
    {
      "cell_type": "markdown",
      "source": [
        "# Assignment 1: Processes and IPC"
      ],
      "metadata": {
        "id": "z4BNNnDbhB12"
      }
    },
    {
      "cell_type": "markdown",
      "source": [
        "## Question 1: Effect of the location of os.wait()"
      ],
      "metadata": {
        "id": "WOGExsQTvvdm"
      }
    },
    {
      "cell_type": "markdown",
      "source": [
        "### Code 1.1: Put os.wait() before the print command"
      ],
      "metadata": {
        "id": "PYMT5YxoZP3X"
      }
    },
    {
      "cell_type": "code",
      "source": [
        "import os\n",
        "from time import sleep\n",
        "\n",
        "rc = os.fork()\n",
        "if (rc > 0):\n",
        "  os.wait()\n",
        "  print('-> Print 1: I am the parent process (PID: %d) of \\\n",
        "  a child process (PID: %d)\\n' %(os.getpid(), rc))\n",
        "elif (rc == 0):\n",
        "  sleep(5)\n",
        "  print('-> Print 2:, I am a child process (PID: %d)\\n' %os.getpid())\n",
        "  os._exit(os.EX_OK)\n",
        "else:\n",
        "  print('Error!')\n"
      ],
      "metadata": {
        "id": "x5hE-mDmx8DX"
      },
      "execution_count": null,
      "outputs": []
    },
    {
      "cell_type": "markdown",
      "source": [
        "### Code 1.2: Put os.wait() after the print command"
      ],
      "metadata": {
        "id": "9hYdZYFdZUSX"
      }
    },
    {
      "cell_type": "code",
      "source": [
        "import os\n",
        "from time import sleep\n",
        "\n",
        "rc = os.fork()\n",
        "if (rc > 0):\n",
        "  print('-> Print 1: I am the parent process (PID: %d) of \\\n",
        "  a child process (PID: %d)\\n' %(os.getpid(), rc))\n",
        "  os.wait()\n",
        "elif (rc == 0):\n",
        "  sleep(5)\n",
        "  print('-> Print 2:, I am a child process (PID: %d)\\n' %os.getpid())\n",
        "  os._exit(os.EX_OK)\n",
        "else:\n",
        "  print('Error!')\n"
      ],
      "metadata": {
        "id": "zAWIANCrv7Ss"
      },
      "execution_count": null,
      "outputs": []
    },
    {
      "cell_type": "markdown",
      "source": [
        "## Question 2: How many processes will be created?"
      ],
      "metadata": {
        "id": "CimtJqODwig3"
      }
    },
    {
      "cell_type": "code",
      "source": [
        "import os\n",
        "\n",
        "rc1 = os.fork()\n",
        "if (rc1 > 0):\n",
        "  print('-> PID: %d\\n' %os.getpid())\n",
        "  rc2 = os.fork()\n",
        "  if (rc2 > 0):\n",
        "    print('-> PID: %d\\n' %os.getpid())\n",
        "  elif (rc2 == 0):\n",
        "    print('-> PID: %d\\n' %os.getpid())\n",
        "    os._exit(os.EX_OK)\n",
        "elif (rc1 == 0):\n",
        "  print('-> PID: %d\\n' %os.getpid())\n",
        "  rc3 = os.fork()\n",
        "  if (rc3 > 0):\n",
        "    print('-> PID: %d\\n' %os.getpid())\n",
        "    rc4 = os.fork()\n",
        "    if (rc4 > 0):\n",
        "      print('-> PID: %d\\n' %os.getpid())\n",
        "      os._exit(os.EX_OK)\n",
        "    elif (rc4 == 0):\n",
        "      print('-> PID: %d\\n' %os.getpid())\n",
        "      os._exit(os.EX_OK)\n",
        "  elif (rc3 == 0):\n",
        "    print('-> PID: %d\\n' %os.getpid())\n",
        "    os._exit(os.EX_OK)\n"
      ],
      "metadata": {
        "id": "7eovZul-a2rB"
      },
      "execution_count": null,
      "outputs": []
    },
    {
      "cell_type": "markdown",
      "source": [
        "## Question 3: Process creation using multiprocessing"
      ],
      "metadata": {
        "id": "bDZBg000ceJ3"
      }
    },
    {
      "cell_type": "code",
      "source": [
        "import os\n",
        "from multiprocessing import Process\n",
        "\n",
        "def PrintPID():\n",
        "  print('Process PID = %d\\n' %os.getpid())\n",
        "\n",
        "def ChildTask1():\n",
        "  PrintPID()\n",
        "  Proc4 = Process(target=PrintPID)\n",
        "  Proc5 = Process(target=PrintPID)\n",
        "  Proc4.start()\n",
        "  Proc5.start()\n",
        "  Proc4.join()\n",
        "  Proc5.join()\n",
        "\n",
        "def ChildTask2():\n",
        "  PrintPID()\n",
        "  Proc6 = Process(target=PrintPID)\n",
        "  Proc6.start()\n",
        "  Proc6.join()\n",
        "\n",
        "def ChildTask3():\n",
        "  PrintPID()\n",
        "  Proc7 = Process(target=PrintPID)\n",
        "  Proc8 = Process(target=PrintPID)\n",
        "  Proc9 = Process(target=PrintPID)\n",
        "  Proc7.start()\n",
        "  Proc8.start()\n",
        "  Proc9.start()\n",
        "  Proc7.join()\n",
        "  Proc8.join()\n",
        "  Proc9.join()\n",
        "\n",
        "if __name__ == \"__main__\":\n",
        "  Proc1 = Process(target=ChildTask1)\n",
        "  Proc2 = Process(target=ChildTask2)\n",
        "  Proc3 = Process(target=ChildTask3)\n",
        "  Proc1.start()\n",
        "  Proc2.start()\n",
        "  Proc3.start()\n",
        "  Proc1.join()\n",
        "  Proc2.join()\n",
        "  Proc3.join()\n",
        "  PrintPID()\n"
      ],
      "metadata": {
        "id": "i6-p0dq7gyk3"
      },
      "execution_count": null,
      "outputs": []
    },
    {
      "cell_type": "markdown",
      "source": [
        "## Question 4: Speed up by using multiple processes and shared memory"
      ],
      "metadata": {
        "id": "UlRILPbiwZxM"
      }
    },
    {
      "cell_type": "markdown",
      "source": [
        "### Code 4.1: A single process"
      ],
      "metadata": {
        "id": "5aNFggJLwydD"
      }
    },
    {
      "cell_type": "code",
      "source": [
        "from time import time\n",
        "\n",
        "if __name__ == \"__main__\":\n",
        "  time0 = time()\n",
        "  Num = 0\n",
        "  for n in range(1, 60000001):\n",
        "    Num = Num + n\n",
        "  time1 = time()-time0\n",
        "  print('Total sum = %d' %Num)\n",
        "  print('Computation time = %f' %time1)\n"
      ],
      "metadata": {
        "id": "7zc49C98wz-j"
      },
      "execution_count": null,
      "outputs": []
    },
    {
      "cell_type": "markdown",
      "source": [
        "### Code 4.2: Multiple processes"
      ],
      "metadata": {
        "id": "BPWhtGVsw0L8"
      }
    },
    {
      "cell_type": "code",
      "source": [
        "from multiprocessing import Process\n",
        "from multiprocessing.shared_memory import SharedMemory\n",
        "from time import time\n",
        "\n",
        "def TaskAdd(a, b, MemName):\n",
        "  Num = 0\n",
        "  for n in range(a, b+1):\n",
        "    Num = Num + n\n",
        "  sm = SharedMemory(MemName)\n",
        "  sm.buf[:11] = bytearray(Num.to_bytes(10, byteorder='big') )\n",
        "\n",
        "if __name__ == \"__main__\":\n",
        "  time0 = time()\n",
        "  shared_mem1 = SharedMemory(name='MyMem1', create=True, size=10)\n",
        "  shared_mem2 = SharedMemory(name='MyMem2', create=True, size=10)\n",
        "  shared_mem3 = SharedMemory(name='MyMem3', create=True, size=10)\n",
        "  Proc1 = Process(target=TaskAdd, args=(1, 20000000, 'MyMem1', ))\n",
        "  Proc2 = Process(target=TaskAdd, args=(20000001, 40000000, 'MyMem2', ))\n",
        "  Proc3 = Process(target=TaskAdd, args=(40000001, 60000000, 'MyMem3', ))\n",
        "  Proc1.start()\n",
        "  Proc2.start()\n",
        "  Proc3.start()\n",
        "  Proc1.join()\n",
        "  Proc2.join()\n",
        "  Proc3.join()\n",
        "  data1 = shared_mem1.buf[:11]\n",
        "  data2 = shared_mem2.buf[:11]\n",
        "  data3 = shared_mem3.buf[:11]\n",
        "  TotalSum = int.from_bytes(data1, \"big\") + int.from_bytes(data2, \"big\") + int.from_bytes(data3, \"big\")\n",
        "  del data1\n",
        "  del data2\n",
        "  del data3\n",
        "  shared_mem1.close()\n",
        "  shared_mem2.close()\n",
        "  shared_mem3.close()\n",
        "  shared_mem1.unlink()\n",
        "  shared_mem2.unlink()\n",
        "  shared_mem3.unlink()\n",
        "  time1 = time()-time0\n",
        "  print('Total sum = %d' %TotalSum)\n",
        "  print('Computation time = %f' %time1)\n"
      ],
      "metadata": {
        "id": "3rhgT6t7wsxz"
      },
      "execution_count": null,
      "outputs": []
    },
    {
      "cell_type": "markdown",
      "source": [
        "# End"
      ],
      "metadata": {
        "id": "vpDhGX3QrYKZ"
      }
    }
  ]
}