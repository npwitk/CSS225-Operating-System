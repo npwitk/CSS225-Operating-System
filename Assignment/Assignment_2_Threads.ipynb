{
  "nbformat": 4,
  "nbformat_minor": 0,
  "metadata": {
    "colab": {
      "provenance": []
    },
    "kernelspec": {
      "name": "python3",
      "display_name": "Python 3"
    },
    "language_info": {
      "name": "python"
    }
  },
  "cells": [
    {
      "cell_type": "markdown",
      "source": [
        "# Assignment 2: Threads"
      ],
      "metadata": {
        "id": "z4BNNnDbhB12"
      }
    },
    {
      "cell_type": "markdown",
      "source": [
        "## Question 1: Effect of the locations of .start() and .join() methods"
      ],
      "metadata": {
        "id": "WOGExsQTvvdm"
      }
    },
    {
      "cell_type": "markdown",
      "source": [
        "### Code 1.1: Inderterministic order"
      ],
      "metadata": {
        "id": "7ohccEjJZbKI"
      }
    },
    {
      "cell_type": "code",
      "source": [
        "import os\n",
        "import threading\n",
        "from time import sleep\n",
        "\n",
        "def WorkerT1():\n",
        "  sleep(10)\n",
        "  print('Worker Thread 1: TID = %d\\n' %threading.get_native_id())\n",
        "\n",
        "def WorkerT2():\n",
        "  sleep(10)\n",
        "  print('Worker Thread 2: TID = %d\\n' %threading.get_native_id())\n",
        "\n",
        "def WorkerT3():\n",
        "  sleep(10)\n",
        "  print('Worker Thread 3: TID = %d\\n' %threading.get_native_id())\n",
        "\n",
        "if __name__ == \"__main__\":\n",
        "  T1 = threading.Thread(target=WorkerT1)\n",
        "  T2 = threading.Thread(target=WorkerT2)\n",
        "  T3 = threading.Thread(target=WorkerT3)\n",
        "\n",
        "  #The different part *****\n",
        "  T1.start()\n",
        "  T2.start()\n",
        "  T3.start()\n",
        "  T1.join()\n",
        "  T2.join()\n",
        "  T3.join()\n",
        "\n",
        "  print('Process PID = %d, Main Thread ID = %d\\n' %(os.getpid(), threading.get_native_id()))"
      ],
      "metadata": {
        "id": "DtR38DSSZeeI"
      },
      "execution_count": null,
      "outputs": []
    },
    {
      "cell_type": "markdown",
      "source": [
        "### Code 1.2: Deterministic order"
      ],
      "metadata": {
        "id": "o9__zkklZe9o"
      }
    },
    {
      "cell_type": "code",
      "source": [
        "import os\n",
        "import threading\n",
        "from time import sleep\n",
        "\n",
        "def WorkerT1():\n",
        "  sleep(10)\n",
        "  print('Worker Thread 1: TID = %d\\n' %threading.get_native_id())\n",
        "\n",
        "def WorkerT2():\n",
        "  sleep(10)\n",
        "  print('Worker Thread 2: TID = %d\\n' %threading.get_native_id())\n",
        "\n",
        "def WorkerT3():\n",
        "  sleep(10)\n",
        "  print('Worker Thread 3: TID = %d\\n' %threading.get_native_id())\n",
        "\n",
        "if __name__ == \"__main__\":\n",
        "  T1 = threading.Thread(target=WorkerT1)\n",
        "  T2 = threading.Thread(target=WorkerT2)\n",
        "  T3 = threading.Thread(target=WorkerT3)\n",
        "\n",
        "  #The different part *****\n",
        "  T1.start()\n",
        "  T1.join()\n",
        "  T2.start()\n",
        "  T2.join()\n",
        "  T3.start()\n",
        "  T3.join()\n",
        "\n",
        "  print('Process PID = %d, Main Thread ID = %d\\n' %(os.getpid(), threading.get_native_id()))"
      ],
      "metadata": {
        "id": "uGLVbmxrSdzz"
      },
      "execution_count": null,
      "outputs": []
    },
    {
      "cell_type": "markdown",
      "source": [
        "## Question 2: Speed up by using a multi-threaded process"
      ],
      "metadata": {
        "id": "KkRBdPIJbM5p"
      }
    },
    {
      "cell_type": "markdown",
      "source": [
        "### Code 2.1: A single-threaded process"
      ],
      "metadata": {
        "id": "D-CLvTGWblPY"
      }
    },
    {
      "cell_type": "code",
      "source": [
        "from time import time\n",
        "\n",
        "if __name__ == \"__main__\":\n",
        "  time0 = time()\n",
        "  Num = 0\n",
        "  for n in range(1, 60000001):\n",
        "    Num = Num + n\n",
        "  time1 = time()-time0\n",
        "  print('Total sum = %d' %Num)\n",
        "  print('Computation time = %f' %time1)\n"
      ],
      "metadata": {
        "id": "17wxK0y3bkmI"
      },
      "execution_count": null,
      "outputs": []
    },
    {
      "cell_type": "markdown",
      "source": [
        "### Code 2.2: A multi-threaded process"
      ],
      "metadata": {
        "id": "M6GT_g08b034"
      }
    },
    {
      "cell_type": "code",
      "source": [
        "import threading\n",
        "from time import time\n",
        "\n",
        "def TaskAdd1(a, b):\n",
        "  global Num1\n",
        "  for n in range(a, b+1):\n",
        "    Num1 = Num1 + n\n",
        "\n",
        "def TaskAdd2(a, b):\n",
        "  global Num2\n",
        "  for n in range(a, b+1):\n",
        "    Num2 = Num2 + n\n",
        "\n",
        "def TaskAdd3(a, b):\n",
        "  global Num3\n",
        "  for n in range(a, b+1):\n",
        "    Num3 = Num3 + n\n",
        "\n",
        "if __name__ == \"__main__\":\n",
        "  time0 = time()\n",
        "  Num1 = 0\n",
        "  Num2 = 0\n",
        "  Num3 = 0\n",
        "  T1 = threading.Thread(target=TaskAdd1, args=(1, 20000000,))\n",
        "  T2 = threading.Thread(target=TaskAdd2, args=(20000001, 40000000,))\n",
        "  T3 = threading.Thread(target=TaskAdd3, args=(40000001, 60000000,))\n",
        "  T1.start()\n",
        "  T2.start()\n",
        "  T3.start()\n",
        "  T1.join()\n",
        "  T2.join()\n",
        "  T3.join()\n",
        "  TotalSum = Num1 + Num2 + Num3\n",
        "  time1 = time()-time0\n",
        "  print('Total sum = %d' %TotalSum)\n",
        "  print('Computation time = %f' %time1)\n"
      ],
      "metadata": {
        "id": "Xm6nWUceSvUk"
      },
      "execution_count": null,
      "outputs": []
    },
    {
      "cell_type": "markdown",
      "source": [
        "## Question 3: Race-condition problem"
      ],
      "metadata": {
        "id": "oDhNpvAMgN3Q"
      }
    },
    {
      "cell_type": "markdown",
      "source": [
        "### Code 3.1: With the race-condition problem\n",
        "\n",
        "*Remark: You might receive the correct values and might not have a race-condition probnlem. Here is an example when I run it and receive a wrong value.*  \n",
        "\n",
        "*Total sum = 598*\n",
        "\n",
        "*Computation time = 2.029342*"
      ],
      "metadata": {
        "id": "1OE-EX69qE71"
      }
    },
    {
      "cell_type": "code",
      "source": [
        "import threading\n",
        "from time import time, sleep\n",
        "\n",
        "def TaskAdd(a, b):\n",
        "  global Num\n",
        "  global A\n",
        "  for n in range(a, b+1):\n",
        "    A = Num\n",
        "    A = A + 1\n",
        "    sleep(0.01)\n",
        "    Num = A\n",
        "\n",
        "if __name__ == \"__main__\":\n",
        "  time0 = time()\n",
        "  Num = 0\n",
        "  A = 0\n",
        "  T1 = threading.Thread(target=TaskAdd, args=(1, 200,))\n",
        "  T2 = threading.Thread(target=TaskAdd, args=(201, 400,))\n",
        "  T3 = threading.Thread(target=TaskAdd, args=(401, 600,))\n",
        "  T1.start()\n",
        "  T2.start()\n",
        "  T3.start()\n",
        "  T1.join()\n",
        "  T2.join()\n",
        "  T3.join()\n",
        "  TotalSum = Num\n",
        "  time1 = time()-time0\n",
        "  print('Total sum = %d' %TotalSum)\n",
        "  print('Computation time = %f' %time1)\n"
      ],
      "metadata": {
        "id": "VDOFu_H9SvbS"
      },
      "execution_count": null,
      "outputs": []
    },
    {
      "cell_type": "markdown",
      "source": [
        "### Code 3.2: Without the race-condition problem"
      ],
      "metadata": {
        "id": "RYjZkOVe_Sf0"
      }
    },
    {
      "cell_type": "code",
      "source": [
        "import threading\n",
        "from time import time, sleep\n",
        "\n",
        "def TaskAdd(a, b):\n",
        "  global Num\n",
        "  global A\n",
        "  for n in range(a, b+1):\n",
        "    A = Num\n",
        "    A = A + 1\n",
        "    sleep(0.01)\n",
        "    Num = A\n",
        "\n",
        "if __name__ == \"__main__\":\n",
        "  time0 = time()\n",
        "  Num = 0\n",
        "  A = 0\n",
        "  T1 = threading.Thread(target=TaskAdd, args=(1, 200,))\n",
        "  T2 = threading.Thread(target=TaskAdd, args=(201, 400,))\n",
        "  T3 = threading.Thread(target=TaskAdd, args=(401, 600,))\n",
        "  T1.start()\n",
        "  T1.join()\n",
        "  T2.start()\n",
        "  T2.join()\n",
        "  T3.start()\n",
        "  T3.join()\n",
        "  TotalSum = Num\n",
        "  time1 = time()-time0\n",
        "  print('Total sum = %d' %TotalSum)\n",
        "  print('Computation time = %f' %time1)\n"
      ],
      "metadata": {
        "id": "Bxc-oowB-qAr"
      },
      "execution_count": null,
      "outputs": []
    },
    {
      "cell_type": "markdown",
      "source": [
        "# End"
      ],
      "metadata": {
        "id": "vpDhGX3QrYKZ"
      }
    }
  ]
}