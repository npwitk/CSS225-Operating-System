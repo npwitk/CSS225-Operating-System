{
  "nbformat": 4,
  "nbformat_minor": 0,
  "metadata": {
    "colab": {
      "provenance": [],
      "toc_visible": true
    },
    "kernelspec": {
      "name": "python3",
      "display_name": "Python 3"
    },
    "language_info": {
      "name": "python"
    }
  },
  "cells": [
    {
      "cell_type": "markdown",
      "source": [
        "# Assignment 3: Synchronization"
      ],
      "metadata": {
        "id": "z4BNNnDbhB12"
      }
    },
    {
      "cell_type": "markdown",
      "source": [
        "## Question 1: Solving a sychronization problem"
      ],
      "metadata": {
        "id": "WOGExsQTvvdm"
      }
    },
    {
      "cell_type": "code",
      "source": [
        "from time import sleep\n",
        "import multiprocessing\n",
        "\n",
        "def ProcTask(ProcName):\n",
        "  print(ProcName + ' is waiting for entering the critical section ...')\n",
        "  # Critical Section ***\n",
        "  print(ProcName + ': 1. It is in the critical section.')\n",
        "  sleep(3)\n",
        "  print(ProcName + ': 2. It is working.\\n')\n",
        "  # End of Critical Section ***\n",
        "\n",
        "if __name__ == '__main__':\n",
        "  ListProcs = []\n",
        "  for n in range(5):\n",
        "    Proc = multiprocessing.Process(target=ProcTask, args=('P'+str(n), ))\n",
        "    Proc.start()\n",
        "    ListProcs.append(Proc)\n",
        "\n",
        "  for Proc in ListProcs:\n",
        "    Proc.join()\n"
      ],
      "metadata": {
        "id": "fon_PjNAKJ2D"
      },
      "execution_count": null,
      "outputs": []
    },
    {
      "cell_type": "markdown",
      "source": [
        "## Question 2: Allow 3 processes in the critical section"
      ],
      "metadata": {
        "id": "Vernpu_xKKLS"
      }
    },
    {
      "cell_type": "code",
      "source": [
        "from time import sleep\n",
        "import multiprocessing\n",
        "\n",
        "def ProcTask(ProcName):\n",
        "  print(ProcName + ' is waiting for entering the critical section.\\n')\n",
        "  semlock.acquire()\n",
        "  # Critical Section ***\n",
        "  Num.value = Num.value + 1\n",
        "  print('  + Critical section: Num of Processes inside = %d\\n' %Num.value)\n",
        "  sleep(2)\n",
        "  Num.value = Num.value - 1\n",
        "  print('  - Critical section: Num of Processes inside = %d\\n' %Num.value)\n",
        "  # End of Critical Section ***\n",
        "  semlock.release()\n",
        "\n",
        "if __name__ == '__main__':\n",
        "  Num = multiprocessing.Value('i', 0)\n",
        "  semlock = multiprocessing.Semaphore(1)\n",
        "\n",
        "  ListProcs = []\n",
        "  for n in range(20):\n",
        "    Proc = multiprocessing.Process(target=ProcTask, args=('P'+str(n), ))\n",
        "    Proc.start()\n",
        "    ListProcs.append(Proc)\n",
        "\n",
        "  for Proc in ListProcs:\n",
        "    Proc.join()\n"
      ],
      "metadata": {
        "id": "rcimD-iWKMQK"
      },
      "execution_count": null,
      "outputs": []
    },
    {
      "cell_type": "markdown",
      "source": [
        "## Question 3: Max numbers of processes in each critical section"
      ],
      "metadata": {
        "id": "v-HujRLUKMar"
      }
    },
    {
      "cell_type": "code",
      "source": [
        "from time import sleep\n",
        "import multiprocessing\n",
        "\n",
        "def ProcTask(ProcName):\n",
        "  print(ProcName + ' is waiting for entering the critical section.\\n')\n",
        "  semlock1.acquire()\n",
        "  # Critical Section 1 ***\n",
        "  Num1.value = Num1.value + 1\n",
        "  print('  + Num in Critical section 1:= %d; Num in Critical section 2:= %d\\n' %(Num1.value, Num2.value))\n",
        "\n",
        "  semlock2.acquire()\n",
        "  # Critical Section 2 ***\n",
        "  Num2.value = Num2.value + 1\n",
        "  print('  + Num in Critical section 1:= %d; Num in Critical section 2:= %d\\n' %(Num1.value, Num2.value))\n",
        "  sleep(1)\n",
        "  Num2.value = Num2.value - 1\n",
        "  print('  - Num in Critical section 1:= %d; Num in Critical section 2:= %d\\n' %(Num1.value, Num2.value))\n",
        "  # End of Critical Section 2 ***\n",
        "  semlock2.release()\n",
        "  sleep(1)\n",
        "  Num1.value = Num1.value - 1\n",
        "  print('  - Num in Critical section 1:= %d; Num in Critical section 2:= %d\\n' %(Num1.value, Num2.value))\n",
        "  # End of Critical Section 1***\n",
        "  semlock1.release()\n",
        "\n",
        "if __name__ == '__main__':\n",
        "  Num1 = multiprocessing.Value('i', 0)\n",
        "  Num2 = multiprocessing.Value('i', 0)\n",
        "  semlock1 = multiprocessing.Semaphore(4)\n",
        "  semlock2 = multiprocessing.Semaphore(3)\n",
        "\n",
        "  ListProcs = []\n",
        "  for n in range(30):\n",
        "    Proc = multiprocessing.Process(target=ProcTask, args=('P'+str(n), ))\n",
        "    Proc.start()\n",
        "    ListProcs.append(Proc)\n",
        "\n",
        "  for Proc in ListProcs:\n",
        "    Proc.join()\n"
      ],
      "metadata": {
        "id": "VjRZ3-CrKORD"
      },
      "execution_count": null,
      "outputs": []
    },
    {
      "cell_type": "markdown",
      "source": [
        "## Question 4: Max numbers of processes in each critical section"
      ],
      "metadata": {
        "id": "fwWrz_gapG0w"
      }
    },
    {
      "cell_type": "code",
      "source": [
        "from time import sleep\n",
        "import multiprocessing\n",
        "\n",
        "def ProcTask(ProcName):\n",
        "  print(ProcName + ' is waiting for entering the critical section.\\n')\n",
        "  semlock1.acquire()\n",
        "  # Critical Section 1 ***\n",
        "  Num1.value = Num1.value + 1\n",
        "  print('  + Num in Critical section 1:= %d; Num in Critical section 2:= %d\\n' %(Num1.value, Num2.value))\n",
        "\n",
        "  semlock2.acquire()\n",
        "  # Critical Section 2 ***\n",
        "  Num2.value = Num2.value + 1\n",
        "  print('  + Num in Critical section 1:= %d; Num in Critical section 2:= %d\\n' %(Num1.value, Num2.value))\n",
        "  sleep(1)\n",
        "  Num2.value = Num2.value - 1\n",
        "  print('  - Num in Critical section 1:= %d; Num in Critical section 2:= %d\\n' %(Num1.value, Num2.value))\n",
        "  # End of Critical Section 2 ***\n",
        "  semlock2.release()\n",
        "  sleep(1)\n",
        "  Num1.value = Num1.value - 1\n",
        "  print('  - Num in Critical section 1:= %d; Num in Critical section 2:= %d\\n' %(Num1.value, Num2.value))\n",
        "  # End of Critical Section 1 ***\n",
        "  semlock1.release()\n",
        "\n",
        "if __name__ == '__main__':\n",
        "  Num1 = multiprocessing.Value('i', 0)\n",
        "  Num2 = multiprocessing.Value('i', 0)\n",
        "  semlock1 = multiprocessing.Semaphore(3)\n",
        "  semlock2 = multiprocessing.Semaphore(5)\n",
        "\n",
        "  ListProcs = []\n",
        "  for n in range(20):\n",
        "    Proc = multiprocessing.Process(target=ProcTask, args=('P'+str(n), ))\n",
        "    Proc.start()\n",
        "    ListProcs.append(Proc)\n",
        "\n",
        "  for Proc in ListProcs:\n",
        "    Proc.join()\n"
      ],
      "metadata": {
        "id": "KueNtafkKOZL"
      },
      "execution_count": null,
      "outputs": []
    },
    {
      "cell_type": "markdown",
      "source": [
        "## Question 5: Multiple threads cooperatively increase a shared variable"
      ],
      "metadata": {
        "id": "Mb0xozgJMajF"
      }
    },
    {
      "cell_type": "code",
      "source": [
        "import threading\n",
        "\n",
        "def TaskAdd(A):\n",
        "  global Num\n",
        "  for _ in range(A):\n",
        "    # Critical Section ***\n",
        "    Num = Num + 1\n",
        "    # End of Critical Section ***\n",
        "\n",
        "if __name__ == \"__main__\":\n",
        "  Num = 0\n",
        "  T1 = threading.Thread(target=TaskAdd, args=(500000,))\n",
        "  T2 = threading.Thread(target=TaskAdd, args=(500000,))\n",
        "  T1.start()\n",
        "  T2.start()\n",
        "  T1.join()\n",
        "  T2.join()\n",
        "  print('Num = %d' %Num)\n"
      ],
      "metadata": {
        "id": "ftudk8PPKOcc"
      },
      "execution_count": null,
      "outputs": []
    },
    {
      "cell_type": "markdown",
      "source": [
        "# End"
      ],
      "metadata": {
        "id": "vpDhGX3QrYKZ"
      }
    }
  ]
}