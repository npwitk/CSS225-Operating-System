{
  "nbformat": 4,
  "nbformat_minor": 0,
  "metadata": {
    "colab": {
      "provenance": [],
      "toc_visible": true
    },
    "kernelspec": {
      "name": "python3",
      "display_name": "Python 3"
    },
    "language_info": {
      "name": "python"
    }
  },
  "cells": [
    {
      "cell_type": "markdown",
      "source": [
        "# Lecture Note 3: Threads"
      ],
      "metadata": {
        "id": "z4BNNnDbhB12"
      }
    },
    {
      "cell_type": "markdown",
      "source": [
        "# Section 2: Thread Investigation by Python threading Module"
      ],
      "metadata": {
        "id": "ip8MCN-NOBzv"
      }
    },
    {
      "cell_type": "markdown",
      "source": [
        "## Example: Thread Creation and TID"
      ],
      "metadata": {
        "id": "hm7yLBzN5Cyx"
      }
    },
    {
      "cell_type": "code",
      "source": [
        "import os\n",
        "import threading\n",
        "\n",
        "def WorkerT1():\n",
        "  print('Process PID = %d, Worker T1 Thread ID = %d\\n' %(os.getpid(), threading.get_native_id()))\n",
        "\n",
        "def WorkerT2():\n",
        "  print('Process PID = %d, Worker T2 Thread ID = %d\\n' %(os.getpid(), threading.get_native_id()))\n",
        "\n",
        "if __name__ == \"__main__\":\n",
        "  T1 = threading.Thread(target=WorkerT1)\n",
        "  T2 = threading.Thread(target=WorkerT2)\n",
        "  T1.start()\n",
        "  T2.start()\n",
        "  T1.join()\n",
        "  T2.join()\n",
        "  print('Process PID = %d, Main Thread ID = %d\\n' %(os.getpid(), threading.get_native_id()))"
      ],
      "metadata": {
        "id": "CvzZizvUvN5E"
      },
      "execution_count": null,
      "outputs": []
    },
    {
      "cell_type": "markdown",
      "source": [
        "## Example: Find the number of threads"
      ],
      "metadata": {
        "id": "OO3EDyz4s7SM"
      }
    },
    {
      "cell_type": "code",
      "source": [
        "import os\n",
        "import threading\n",
        "\n",
        "def WorkerT():\n",
        "  print('Process PID = %d, Worker Thread ID = %d\\n' %(os.getpid(), threading.get_native_id()))\n",
        "\n",
        "if __name__ == \"__main__\":\n",
        "  T1 = threading.Thread(target=WorkerT)\n",
        "  T2 = threading.Thread(target=WorkerT)\n",
        "  T3 = threading.Thread(target=WorkerT)\n",
        "  T4 = threading.Thread(target=WorkerT)\n",
        "  T1.start()\n",
        "  T2.start()\n",
        "  T3.start()\n",
        "  T4.start()\n",
        "  T1.join()\n",
        "  T2.join()\n",
        "  T3.join()\n",
        "  T4.join()\n",
        "  print('Process PID = %d, Main Thread ID = %d\\n' %(os.getpid(), threading.get_native_id()))"
      ],
      "metadata": {
        "id": "yXgLDmTXs-Q0"
      },
      "execution_count": null,
      "outputs": []
    },
    {
      "cell_type": "markdown",
      "source": [
        "## Example: Order of worker thread execution can be indeterministic"
      ],
      "metadata": {
        "id": "odllcEX71uKr"
      }
    },
    {
      "cell_type": "code",
      "source": [
        "import os\n",
        "import threading\n",
        "from time import sleep\n",
        "\n",
        "def WorkerT():\n",
        "  sleep(10)\n",
        "  print('Process PID = %d, Worker Thread ID = %d\\n' %(os.getpid(), threading.get_native_id()))\n",
        "\n",
        "if __name__ == \"__main__\":\n",
        "  T1 = threading.Thread(target=WorkerT)\n",
        "  T2 = threading.Thread(target=WorkerT)\n",
        "  T3 = threading.Thread(target=WorkerT)\n",
        "  T1.start()\n",
        "  T2.start()\n",
        "  T3.start()\n",
        "  T1.join()\n",
        "  T2.join()\n",
        "  T3.join()\n",
        "  print('Process PID = %d, Main Thread ID = %d\\n' %(os.getpid(), threading.get_native_id()))"
      ],
      "metadata": {
        "id": "mbgJbCwP45Fc"
      },
      "execution_count": null,
      "outputs": []
    },
    {
      "cell_type": "markdown",
      "source": [
        "## Example: Worker theads run concurrently/parallelly"
      ],
      "metadata": {
        "id": "rIlGc1-N7lPL"
      }
    },
    {
      "cell_type": "code",
      "source": [
        "import os\n",
        "import threading\n",
        "from time import sleep, time\n",
        "\n",
        "def WorkerT():\n",
        "  sleep(10)\n",
        "  print('Process PID = %d, Worker Thread ID = %d\\n' %(os.getpid(), threading.get_native_id()))\n",
        "\n",
        "if __name__ == \"__main__\":\n",
        "  T1 = threading.Thread(target=WorkerT)\n",
        "  T2 = threading.Thread(target=WorkerT)\n",
        "  T3 = threading.Thread(target=WorkerT)\n",
        "  time0 = time()\n",
        "  T1.start()\n",
        "  T2.start()\n",
        "  T3.start()\n",
        "  T1.join()\n",
        "  T2.join()\n",
        "  T3.join()\n",
        "  print('Process PID = %d, Main Thread ID = %d\\n' %(os.getpid(), threading.get_native_id()))\n",
        "  time1 = time()-time0\n",
        "  print('Total time = %f' %time1)"
      ],
      "metadata": {
        "id": "7GmS4jMR50JE"
      },
      "execution_count": null,
      "outputs": []
    },
    {
      "cell_type": "markdown",
      "source": [
        "## Example: Threads in a process are in the same memory block and share global variables"
      ],
      "metadata": {
        "id": "8UYtW-f2svcO"
      }
    },
    {
      "cell_type": "code",
      "source": [
        "import threading\n",
        "\n",
        "def Task_Add(a):\n",
        "  global Num\n",
        "  Num = Num + a\n",
        "  print('Process PID = %d, Worker T1 Thread ID = %d: Num = %d' %(os.getpid(), threading.get_native_id(), Num))\n",
        "\n",
        "def Task_Sub(a):\n",
        "  global Num\n",
        "  Num = Num - a\n",
        "  print('Process PID = %d, Worker T2 Thread ID = %d: Num = %d' %(os.getpid(), threading.get_native_id(), Num))\n",
        "\n",
        "if __name__ == \"__main__\":\n",
        "  Num = 10\n",
        "  T1 = threading.Thread(target=Task_Add, args=(10,))\n",
        "  T2 = threading.Thread(target=Task_Sub, args=(5,))\n",
        "  T1.start()\n",
        "  T1.join()\n",
        "  T2.start()\n",
        "  T2.join()\n",
        "  print('Process PID = %d, Main Thread ID = %d: Num = %d' %(os.getpid(), threading.get_native_id(), Num))\n"
      ],
      "metadata": {
        "id": "Zji0w6rtsh0W"
      },
      "execution_count": null,
      "outputs": []
    },
    {
      "cell_type": "markdown",
      "source": [
        "# Section 3 Multiple Treads and Multiple Processes"
      ],
      "metadata": {
        "id": "NQYCR9VZUM9G"
      }
    },
    {
      "cell_type": "markdown",
      "source": [
        "## Example: Multiple Treads and Multiple Processes with fork"
      ],
      "metadata": {
        "id": "RXQ8sRoTUWPY"
      }
    },
    {
      "cell_type": "code",
      "source": [
        "import os\n",
        "import threading\n",
        "\n",
        "def WorkerT():\n",
        "  print('Child PID = %d, Worker TID = %d\\n' %(os.getpid(), threading.get_native_id()))\n",
        "\n",
        "rc = os.fork()\n",
        "if (rc > 0):\n",
        "  os.wait()\n",
        "  print('Parent PID: %d, Main TID = %d\\n' %(os.getpid(), threading.get_native_id()))\n",
        "elif (rc == 0):\n",
        "  print('Child PID: %d, Main TID = %d\\n' %(os.getpid(), threading.get_native_id()))\n",
        "  T1 = threading.Thread(target=WorkerT)\n",
        "  T2 = threading.Thread(target=WorkerT)\n",
        "  T1.start()\n",
        "  T1.join()\n",
        "  T2.start()\n",
        "  T2.join()\n",
        "  os._exit(os.EX_OK)\n",
        "else:\n",
        "  print('Error!')"
      ],
      "metadata": {
        "id": "5Il88ETjQea9"
      },
      "execution_count": null,
      "outputs": []
    },
    {
      "cell_type": "markdown",
      "source": [
        "## Example: Multiple Treads and Multiple Processes with multiprocessing"
      ],
      "metadata": {
        "id": "IKLi83NZVAnK"
      }
    },
    {
      "cell_type": "code",
      "source": [
        "import os\n",
        "import threading\n",
        "from multiprocessing import Process\n",
        "\n",
        "def ChildTask1():\n",
        "  print('Child PID = %d, Main TID = %d\\n' %(os.getpid(), threading.get_native_id()))\n",
        "  T1 = threading.Thread(target=WorkerT)\n",
        "  T2 = threading.Thread(target=WorkerT)\n",
        "  T1.start()\n",
        "  T2.start()\n",
        "  T1.join()\n",
        "  T2.join()\n",
        "\n",
        "def ChildTask2():\n",
        "  print('Child PID = %d, Main TID = %d\\n' %(os.getpid(), threading.get_native_id()))\n",
        "  T1 = threading.Thread(target=WorkerT)\n",
        "  T1.start()\n",
        "  T1.join()\n",
        "\n",
        "def WorkerT():\n",
        "  print('Child PID = %d, Worker TID = %d\\n' %(os.getpid(), threading.get_native_id()))\n",
        "\n",
        "if __name__ == \"__main__\":\n",
        "  Proc1 = Process(target=ChildTask1)\n",
        "  Proc2 = Process(target=ChildTask2)\n",
        "  Proc1.start()\n",
        "  Proc2.start()\n",
        "  Proc1.join()\n",
        "  Proc2.join()\n",
        "  print('Parent PID = %d, Main TID = %d\\n' %(os.getpid(), threading.get_native_id()))"
      ],
      "metadata": {
        "id": "iDvOeLxXGDym"
      },
      "execution_count": null,
      "outputs": []
    },
    {
      "cell_type": "markdown",
      "source": [
        "# End"
      ],
      "metadata": {
        "id": "vpDhGX3QrYKZ"
      }
    }
  ]
}