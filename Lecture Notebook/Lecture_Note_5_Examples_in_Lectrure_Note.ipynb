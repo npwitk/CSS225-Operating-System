{
  "nbformat": 4,
  "nbformat_minor": 0,
  "metadata": {
    "colab": {
      "provenance": [],
      "toc_visible": true
    },
    "kernelspec": {
      "name": "python3",
      "display_name": "Python 3"
    },
    "language_info": {
      "name": "python"
    }
  },
  "cells": [
    {
      "cell_type": "markdown",
      "source": [
        "# Lecture Note 5: Synchronization"
      ],
      "metadata": {
        "id": "z4BNNnDbhB12"
      }
    },
    {
      "cell_type": "markdown",
      "source": [
        "## Example: Multiple threads show their names on the monitor"
      ],
      "metadata": {
        "id": "E4BpEKvdxm0K"
      }
    },
    {
      "cell_type": "code",
      "source": [
        "import threading\n",
        "from time import sleep\n",
        "\n",
        "def TaskAdd(A):\n",
        "  global Num\n",
        "  for _ in range(2):\n",
        "    print(A+'\\n')\n",
        "    sleep(1)\n",
        "\n",
        "if __name__ == \"__main__\":\n",
        "  Num = 0\n",
        "  T1 = threading.Thread(target=TaskAdd, args=('Thread T1',))\n",
        "  T2 = threading.Thread(target=TaskAdd, args=('Thread T2',))\n",
        "  T1.start()\n",
        "  T2.start()\n",
        "  T1.join()\n",
        "  T2.join()\n"
      ],
      "metadata": {
        "id": "DipuAWpnG_Zh"
      },
      "execution_count": null,
      "outputs": []
    },
    {
      "cell_type": "markdown",
      "source": [
        "## Example: Multiple processes cooperatively increase a shared variable"
      ],
      "metadata": {
        "id": "SER0OabkG_t5"
      }
    },
    {
      "cell_type": "code",
      "source": [
        "import multiprocessing\n",
        "\n",
        "def TaskAdd(A):\n",
        "\tfor _ in range(A):\n",
        "\t\tNum.value = Num.value + 1\n",
        "\n",
        "if __name__ == \"__main__\":\n",
        "  Num = multiprocessing.Value('i', 0)\n",
        "  P1 = multiprocessing.Process(target=TaskAdd, args=(500000,))\n",
        "  P2 = multiprocessing.Process(target=TaskAdd, args=(500000,))\n",
        "  P1.start()\n",
        "  P2.start()\n",
        "  P1.join()\n",
        "  P2.join()\n",
        "  print('Total = %d' %Num.value)\n"
      ],
      "metadata": {
        "id": "UTsBPRpzDPSy"
      },
      "execution_count": null,
      "outputs": []
    },
    {
      "cell_type": "markdown",
      "source": [
        "# Section 3: Mutex Lock"
      ],
      "metadata": {
        "id": "4OZ2TZ9fx7lq"
      }
    },
    {
      "cell_type": "markdown",
      "source": [
        "## Example: Spin Lock"
      ],
      "metadata": {
        "id": "7ILJxinsyDk4"
      }
    },
    {
      "cell_type": "code",
      "source": [
        "import multiprocessing\n",
        "\n",
        "def TaskP1():\n",
        "  print('P1 is executing.\\n')\n",
        "  while (Num.value < 200000):\n",
        "    pass\n",
        "  print('P1 prints Num = %d\\n' %Num.value)\n",
        "\n",
        "def TaskP2():\n",
        "  print('P2 is executing while P1 is in a spin lock.\\n')\n",
        "  for _ in range(500000):\n",
        "    Num.value = Num.value + 1\n",
        "  print('P2 prints Num = %d\\n' %Num.value)\n",
        "\n",
        "if __name__ == \"__main__\":\n",
        "  Num = multiprocessing.Value('i', 0)\n",
        "  P1 = multiprocessing.Process(target=TaskP1)\n",
        "  P2 = multiprocessing.Process(target=TaskP2)\n",
        "  P1.start()\n",
        "  P2.start()\n",
        "  P1.join()\n",
        "  P2.join()\n"
      ],
      "metadata": {
        "id": "4Q5EqD6LDPao"
      },
      "execution_count": null,
      "outputs": []
    },
    {
      "cell_type": "markdown",
      "source": [
        "## Example: Using Python mutex locks"
      ],
      "metadata": {
        "id": "3wKjap7D-sIq"
      }
    },
    {
      "cell_type": "code",
      "source": [
        "import multiprocessing\n",
        "\n",
        "def TaskAdd(A, lock):\n",
        "  for _ in range(A):\n",
        "    lock.acquire()\n",
        "    Num.value = Num.value + 1\n",
        "    lock.release()\n",
        "\n",
        "if __name__ == \"__main__\":\n",
        "  Num = multiprocessing.Value('i', 0)\n",
        "  lock = multiprocessing.Lock()\n",
        "  P1 = multiprocessing.Process(target=TaskAdd, args=(500000, lock, ))\n",
        "  P2 = multiprocessing.Process(target=TaskAdd, args=(500000, lock, ))\n",
        "  P1.start()\n",
        "  P2.start()\n",
        "  P1.join()\n",
        "  P2.join()\n",
        "  print('Total = %d' %Num.value)\n"
      ],
      "metadata": {
        "id": "4ohwLZspB76b"
      },
      "execution_count": null,
      "outputs": []
    },
    {
      "cell_type": "markdown",
      "source": [
        "# Section 4: Semaphores"
      ],
      "metadata": {
        "id": "30DQqeIHMuYL"
      }
    },
    {
      "cell_type": "markdown",
      "source": [
        "## Example: Using Python semaphores"
      ],
      "metadata": {
        "id": "w02QMFpdMxXi"
      }
    },
    {
      "cell_type": "code",
      "source": [
        "import multiprocessing\n",
        "\n",
        "def TaskAdd(A, semlock):\n",
        "  for _ in range(A):\n",
        "    semlock.acquire()\n",
        "    Num.value = Num.value + 1\n",
        "    semlock.release()\n",
        "\n",
        "if __name__ == \"__main__\":\n",
        "  Num = multiprocessing.Value('i', 0)\n",
        "  semlock = multiprocessing.Semaphore(1)\n",
        "  P1 = multiprocessing.Process(target=TaskAdd, args=(500000, semlock, ))\n",
        "  P2 = multiprocessing.Process(target=TaskAdd, args=(500000, semlock, ))\n",
        "  P1.start()\n",
        "  P2.start()\n",
        "  P1.join()\n",
        "  P2.join()\n",
        "  print('Total = %d' %Num.value)\n"
      ],
      "metadata": {
        "id": "FJAVznjcFG5R"
      },
      "execution_count": null,
      "outputs": []
    },
    {
      "cell_type": "markdown",
      "source": [
        "# Section 5: Problems of Using Synchronization"
      ],
      "metadata": {
        "id": "Emn_qz5CnTLR"
      }
    },
    {
      "cell_type": "markdown",
      "source": [
        "## Example: Deadlock due to circular wait"
      ],
      "metadata": {
        "id": "X7ngslysneLd"
      }
    },
    {
      "cell_type": "code",
      "source": [
        "from time import sleep\n",
        "import multiprocessing\n",
        "\n",
        "def ProcTask(ProcName, lock1, lock2):\n",
        "  print(ProcName + ' would like to enter the critical section.\\n')\n",
        "  lock1.acquire()\n",
        "  sleep(1)\n",
        "  print(ProcName + ' owns his first lock and waiting for the second lock ...\\n' )\n",
        "  lock2.acquire()\n",
        "  print(ProcName + ' is in the critical section.\\n' )\n",
        "  lock2.release()\n",
        "  lock1.release()\n",
        "\n",
        "if __name__ == '__main__':\n",
        "  lockA = multiprocessing.Lock()\n",
        "  lockB = multiprocessing.Lock()\n",
        "\n",
        "  P1 = multiprocessing.Process(target=ProcTask, args=('P1', lockA, lockB, ))\n",
        "  P2 = multiprocessing.Process(target=ProcTask, args=('P2', lockB, lockA, ))\n",
        "  P1.start()\n",
        "  P2.start()\n",
        "  P1.join()\n",
        "  P2.join()\n"
      ],
      "metadata": {
        "id": "opgI2OVQn42L"
      },
      "execution_count": null,
      "outputs": []
    },
    {
      "cell_type": "markdown",
      "source": [
        "# End"
      ],
      "metadata": {
        "id": "vpDhGX3QrYKZ"
      }
    }
  ]
}