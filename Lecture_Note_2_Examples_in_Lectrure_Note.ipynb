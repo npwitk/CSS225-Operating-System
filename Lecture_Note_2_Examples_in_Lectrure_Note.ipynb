{
  "nbformat": 4,
  "nbformat_minor": 0,
  "metadata": {
    "colab": {
      "provenance": [],
      "toc_visible": true
    },
    "kernelspec": {
      "name": "python3",
      "display_name": "Python 3"
    },
    "language_info": {
      "name": "python"
    }
  },
  "cells": [
    {
      "cell_type": "markdown",
      "source": [
        "# Lecture Note 2: Processes"
      ],
      "metadata": {
        "id": "z4BNNnDbhB12"
      }
    },
    {
      "cell_type": "markdown",
      "source": [
        "# Section 5: Process Investigation by fork Command (Python)"
      ],
      "metadata": {
        "id": "ip8MCN-NOBzv"
      }
    },
    {
      "cell_type": "markdown",
      "source": [
        "## Example: Parent and Child Processes"
      ],
      "metadata": {
        "id": "hm7yLBzN5Cyx"
      }
    },
    {
      "cell_type": "code",
      "source": [
        "import os\n",
        "\n",
        "rc = os.fork()\n",
        "if (rc > 0):\n",
        "  os.wait()\n",
        "  print('-> Print 1: I am the parent process (PID: %d) of \\\n",
        "  a child process (PID: %d)\\n' %(os.getpid(), rc))\n",
        "elif (rc == 0):\n",
        "  print('-> Print 2:, I am a child process (PID: %d)\\n' %os.getpid())\n",
        "  os._exit(os.EX_OK)\n",
        "else:\n",
        "  print('Error!')\n",
        "\n"
      ],
      "metadata": {
        "id": "2tx3g9yHAWOt"
      },
      "execution_count": null,
      "outputs": []
    },
    {
      "cell_type": "markdown",
      "source": [
        "## Example: Compute the Number of Processes"
      ],
      "metadata": {
        "id": "6XTVxQHW5vcv"
      }
    },
    {
      "cell_type": "code",
      "source": [
        "import os\n",
        "\n",
        "rc1 = os.fork()\n",
        "if (rc1 > 0):\n",
        "  os.wait()\n",
        "  print('-> Print 1:, I am the parent process (PID: %d) of \\\n",
        "  a child process (PID: %d)\\n' %(os.getpid(), rc1))\n",
        "elif (rc1 == 0):\n",
        "  print('-> Print 2:, I am a child process (PID: %d)\\n' %os.getpid())\n",
        "  rc2 = os.fork()\n",
        "  if (rc2 > 0):\n",
        "    os.wait()\n",
        "    print('-> Print 3: I am the parent process (PID: %d) of \\\n",
        "    a child process (PID: %d)\\n' %(os.getpid(), rc2))\n",
        "  elif (rc2 == 0):\n",
        "    print('-> Print 4: I am a child process (PID: %d)\\n' %os.getpid())\n",
        "    os._exit(os.EX_OK)\n",
        "  else:\n",
        "    print('Error!')\n",
        "  os._exit(os.EX_OK)\n",
        "else:\n",
        "  print('Error!')\n"
      ],
      "metadata": {
        "id": "4wYqXPTQznhw"
      },
      "execution_count": null,
      "outputs": []
    },
    {
      "cell_type": "markdown",
      "source": [
        "## Example: How many processes will be created?"
      ],
      "metadata": {
        "id": "C0fG3c5TR5MW"
      }
    },
    {
      "cell_type": "code",
      "source": [
        "import os\n",
        "\n",
        "rc1 = os.fork()\n",
        "print('-> Print 1: I am a process (PID: %d)\\n' %os.getpid())\n",
        "rc2 = os.fork()\n",
        "print('-> Print 2: I am a process (PID: %d)\\n' %os.getpid())\n"
      ],
      "metadata": {
        "id": "9cBtWv2lSAf1"
      },
      "execution_count": null,
      "outputs": []
    },
    {
      "cell_type": "markdown",
      "source": [
        "## Example: Parent and child processes are in separated memory spaces"
      ],
      "metadata": {
        "id": "BTn3qaSY_Qph"
      }
    },
    {
      "cell_type": "code",
      "source": [
        "import os\n",
        "\n",
        "Num = 0\n",
        "rc = os.fork()\n",
        "if (rc > 0):\n",
        "  os.wait()\n",
        "  print('-> Print 1, I am the parent process (PID: %d); \\\n",
        "   Num is equal to %d.\\n' %(os.getpid(), Num))\n",
        "elif (rc == 0):\n",
        "  Num = Num + 15\n",
        "  print('-> Print 2, I am a child process (PID: %d); \\\n",
        "   Num is equal to %d.\\n' %(os.getpid(), Num))\n",
        "  os._exit(os.EX_OK)\n",
        "else:\n",
        "  print('Error!')\n"
      ],
      "metadata": {
        "id": "s16rsdOp-sf1"
      },
      "execution_count": null,
      "outputs": []
    },
    {
      "cell_type": "markdown",
      "source": [
        "# Section 6: Process Investigation by Using Python multiprocessing Module"
      ],
      "metadata": {
        "id": "Wk9FBrB4ZD1q"
      }
    },
    {
      "cell_type": "markdown",
      "source": [
        "## Example: Process Creation using multiprocessing"
      ],
      "metadata": {
        "id": "VPpZiaoogCn5"
      }
    },
    {
      "cell_type": "code",
      "source": [
        "import os\n",
        "from multiprocessing import Process\n",
        "\n",
        "def Task_Add(a):\n",
        "  global Num\n",
        "  Num = Num + a\n",
        "  print('Child process: Process PID = %d has Num = %d' %(os.getpid(), Num))\n",
        "\n",
        "def Task_Sub(a):\n",
        "  global Num\n",
        "  Num = Num - a\n",
        "  print('Child Process: Process PID = %d has Num = %d' %(os.getpid(), Num))\n",
        "\n",
        "if __name__ == \"__main__\":\n",
        "  Num = 10\n",
        "  Proc1 = Process(target=Task_Add, args=(10,))\n",
        "  Proc2 = Process(target=Task_Sub, args=(5,))\n",
        "  Proc1.start()\n",
        "  Proc2.start()\n",
        "  Proc1.join()\n",
        "  Proc2.join()\n",
        "  print('Parent Process: Process PID = %d has Num = %d' %(os.getpid(), Num))"
      ],
      "metadata": {
        "id": "cLdWPU3mZVUd"
      },
      "execution_count": null,
      "outputs": []
    },
    {
      "cell_type": "markdown",
      "source": [
        "## Example: Compute the Number of Processes"
      ],
      "metadata": {
        "id": "Eutt6-bLgpw6"
      }
    },
    {
      "cell_type": "code",
      "source": [
        "import os\n",
        "from multiprocessing import Process\n",
        "\n",
        "def ChildTask():\n",
        "  print('Child process: Process PID = %d' %os.getpid())\n",
        "\n",
        "if __name__ == \"__main__\":\n",
        "  Proc1 = Process(target=ChildTask)\n",
        "  Proc2 = Process(target=ChildTask)\n",
        "  Proc3 = Process(target=ChildTask)\n",
        "  Proc4 = Process(target=ChildTask)\n",
        "  Proc1.start()\n",
        "  Proc2.start()\n",
        "  Proc3.start()\n",
        "  Proc4.start()\n",
        "  Proc1.join()\n",
        "  Proc2.join()\n",
        "  Proc3.join()\n",
        "  Proc4.join()\n",
        "  print('Parent Process: Process PID = %d' %os.getpid())"
      ],
      "metadata": {
        "id": "vIkdUgXHZWOC"
      },
      "execution_count": null,
      "outputs": []
    },
    {
      "cell_type": "markdown",
      "source": [
        "# Section 7: Interprocess Communication"
      ],
      "metadata": {
        "id": "JHh0cFiGdjRc"
      }
    },
    {
      "cell_type": "markdown",
      "source": [
        "## Example: IPC using Shared Memory via SharedMemory Class"
      ],
      "metadata": {
        "id": "Jy_SQaV-do57"
      }
    },
    {
      "cell_type": "code",
      "source": [
        "from multiprocessing.shared_memory import SharedMemory\n",
        "from multiprocessing import Process\n",
        "\n",
        "def ChildTask1():\n",
        "    sm = SharedMemory('MyMem')\n",
        "    sm.buf[:5] = bytearray([1, 2, 3, 4, 5])\n",
        "\n",
        "def ChildTask2():\n",
        "    sm = SharedMemory('MyMem')\n",
        "    sm.buf[:3] = bytearray([20, 21, 22])\n",
        "\n",
        "if __name__ == '__main__':\n",
        "  shared_mem = SharedMemory(name='MyMem', create=True, size=10)\n",
        "  Proc1 = Process(target=ChildTask1)\n",
        "  Proc2 = Process(target=ChildTask2)\n",
        "  Proc1.start()\n",
        "  Proc1.join()\n",
        "  data = [int(shared_mem.buf[i]) for i in range(5)]\n",
        "  print('Parent received data from Proc1: ', data)\n",
        "  Proc2.start()\n",
        "  Proc2.join()\n",
        "  data = [int(shared_mem.buf[i]) for i in range(3)]\n",
        "  print('Parent received data from Proc2: ', data)\n",
        "  shared_mem.close()\n",
        "  shared_mem.unlink()"
      ],
      "metadata": {
        "id": "QMO7xpbmZWQ7"
      },
      "execution_count": null,
      "outputs": []
    },
    {
      "cell_type": "markdown",
      "source": [
        "## Example: IPC using Shared Memory via multiprocessing.Value Class"
      ],
      "metadata": {
        "id": "4hfdO90EZ7R4"
      }
    },
    {
      "cell_type": "code",
      "source": [
        "import multiprocessing\n",
        "\n",
        "def TaskAdd(A):\n",
        "\tfor _ in range(A):\n",
        "\t\tNum.value = Num.value + 1\n",
        "\n",
        "if __name__ == \"__main__\":\n",
        "  Num = multiprocessing.Value('i', 0)\n",
        "  P1 = multiprocessing.Process(target=TaskAdd, args=(500000,))\n",
        "  P2 = multiprocessing.Process(target=TaskAdd, args=(500000,))\n",
        "  P1.start()\n",
        "  P1.join()\n",
        "  P2.start()\n",
        "  P2.join()\n",
        "  print('Total = %d' %Num.value)\n"
      ],
      "metadata": {
        "id": "fqar9GvoaBDX"
      },
      "execution_count": null,
      "outputs": []
    },
    {
      "cell_type": "markdown",
      "source": [
        "# End"
      ],
      "metadata": {
        "id": "vpDhGX3QrYKZ"
      }
    }
  ]
}